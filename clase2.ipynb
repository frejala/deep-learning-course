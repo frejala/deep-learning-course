{
 "cells": [
  {
   "cell_type": "markdown",
   "id": "915c6c79",
   "metadata": {},
   "source": [
    "## Trabajando con RNNS\n",
    "### Comenzamos con una red neuronal recurrente simple"
   ]
  },
  {
   "cell_type": "code",
   "execution_count": 1,
   "id": "25c5d5b6",
   "metadata": {},
   "outputs": [],
   "source": [
    "import numpy as np\n",
    "from tensorflow.keras.models import Sequential\n",
    "from tensorflow.keras.layers import SimpleRNN, Dense"
   ]
  },
  {
   "cell_type": "code",
   "execution_count": 3,
   "id": "6243a0ae",
   "metadata": {},
   "outputs": [
    {
     "name": "stderr",
     "output_type": "stream",
     "text": [
      "/home/frejala/Code/deep-learning-course/.venv/lib/python3.11/site-packages/keras/src/layers/rnn/rnn.py:199: UserWarning: Do not pass an `input_shape`/`input_dim` argument to a layer. When using Sequential models, prefer using an `Input(shape)` object as the first layer in the model instead.\n",
      "  super().__init__(**kwargs)\n"
     ]
    },
    {
     "name": "stdout",
     "output_type": "stream",
     "text": [
      "\u001b[1m1/1\u001b[0m \u001b[32m━━━━━━━━━━━━━━━━━━━━\u001b[0m\u001b[37m\u001b[0m \u001b[1m0s\u001b[0m 79ms/step\n",
      "Prediccion del modelo para [2, 3, 4]:  [[2.8636582]]\n"
     ]
    }
   ],
   "source": [
    "# con esto le ensenho al modelo\n",
    "x = np.array([[[0], [1], [2]], [[1], [2], [3]]]) # secuencia\n",
    "\n",
    "# esto es lo que quiero que mi modelo trate de predecir\n",
    "y = np.array([3, 4])\n",
    "\n",
    "# defino mi modelo de rnn simple\n",
    "model = Sequential([\n",
    "  SimpleRNN(10, activation=\"tanh\", input_shape=(3, 1)),\n",
    "  Dense(1)\n",
    "])\n",
    "\n",
    "model.compile(optimizer=\"adam\", loss=\"MSE\")\n",
    "model.fit(x, y, epochs=200, verbose=0)\n",
    "\n",
    "print(\"Prediccion del modelo para [2, 3, 4]: \", model.predict(np.array([[[2], [3], [4]]])))"
   ]
  },
  {
   "cell_type": "markdown",
   "id": "77072728",
   "metadata": {},
   "source": [
    "Caso de uso para prediccion de temperaturas"
   ]
  },
  {
   "cell_type": "code",
   "execution_count": 4,
   "id": "6c0f12ba",
   "metadata": {},
   "outputs": [],
   "source": [
    "import pandas as pd\n",
    "import numpy as np\n",
    "from tensorflow.keras.models import Sequential\n",
    "from tensorflow.keras.layers import SimpleRNN, Dense\n",
    "from sklearn.preprocessing import MinMaxScaler"
   ]
  },
  {
   "cell_type": "code",
   "execution_count": 5,
   "id": "4c39806c",
   "metadata": {},
   "outputs": [
    {
     "name": "stdout",
     "output_type": "stream",
     "text": [
      "Epoch 1/10\n"
     ]
    },
    {
     "name": "stderr",
     "output_type": "stream",
     "text": [
      "/home/frejala/Code/deep-learning-course/.venv/lib/python3.11/site-packages/keras/src/layers/rnn/rnn.py:199: UserWarning: Do not pass an `input_shape`/`input_dim` argument to a layer. When using Sequential models, prefer using an `Input(shape)` object as the first layer in the model instead.\n",
      "  super().__init__(**kwargs)\n"
     ]
    },
    {
     "name": "stdout",
     "output_type": "stream",
     "text": [
      "\u001b[1m695/695\u001b[0m \u001b[32m━━━━━━━━━━━━━━━━━━━━\u001b[0m\u001b[37m\u001b[0m \u001b[1m2s\u001b[0m 3ms/step - loss: 0.0016\n",
      "Epoch 2/10\n",
      "\u001b[1m695/695\u001b[0m \u001b[32m━━━━━━━━━━━━━━━━━━━━\u001b[0m\u001b[37m\u001b[0m \u001b[1m2s\u001b[0m 3ms/step - loss: 4.8635e-04\n",
      "Epoch 3/10\n",
      "\u001b[1m695/695\u001b[0m \u001b[32m━━━━━━━━━━━━━━━━━━━━\u001b[0m\u001b[37m\u001b[0m \u001b[1m2s\u001b[0m 3ms/step - loss: 4.3297e-04\n",
      "Epoch 4/10\n",
      "\u001b[1m695/695\u001b[0m \u001b[32m━━━━━━━━━━━━━━━━━━━━\u001b[0m\u001b[37m\u001b[0m \u001b[1m2s\u001b[0m 3ms/step - loss: 4.2717e-04\n",
      "Epoch 5/10\n",
      "\u001b[1m695/695\u001b[0m \u001b[32m━━━━━━━━━━━━━━━━━━━━\u001b[0m\u001b[37m\u001b[0m \u001b[1m2s\u001b[0m 3ms/step - loss: 4.2383e-04\n",
      "Epoch 6/10\n",
      "\u001b[1m695/695\u001b[0m \u001b[32m━━━━━━━━━━━━━━━━━━━━\u001b[0m\u001b[37m\u001b[0m \u001b[1m2s\u001b[0m 3ms/step - loss: 4.1889e-04\n",
      "Epoch 7/10\n",
      "\u001b[1m695/695\u001b[0m \u001b[32m━━━━━━━━━━━━━━━━━━━━\u001b[0m\u001b[37m\u001b[0m \u001b[1m2s\u001b[0m 3ms/step - loss: 4.1935e-04\n",
      "Epoch 8/10\n",
      "\u001b[1m695/695\u001b[0m \u001b[32m━━━━━━━━━━━━━━━━━━━━\u001b[0m\u001b[37m\u001b[0m \u001b[1m2s\u001b[0m 3ms/step - loss: 4.1994e-04\n",
      "Epoch 9/10\n",
      "\u001b[1m695/695\u001b[0m \u001b[32m━━━━━━━━━━━━━━━━━━━━\u001b[0m\u001b[37m\u001b[0m \u001b[1m2s\u001b[0m 3ms/step - loss: 4.2265e-04\n",
      "Epoch 10/10\n",
      "\u001b[1m695/695\u001b[0m \u001b[32m━━━━━━━━━━━━━━━━━━━━\u001b[0m\u001b[37m\u001b[0m \u001b[1m2s\u001b[0m 3ms/step - loss: 4.1716e-04\n",
      "\u001b[1m1/1\u001b[0m \u001b[32m━━━━━━━━━━━━━━━━━━━━\u001b[0m\u001b[37m\u001b[0m \u001b[1m0s\u001b[0m 81ms/step\n",
      "Prediccion para la proxima hora:  [[289.39523]]\n"
     ]
    }
   ],
   "source": [
    "# traemos el dataset\n",
    "df = pd.read_csv(r\"temperature.csv\")\n",
    "\n",
    "temps = df[\"San Francisco\"].dropna().values.reshape(-1, 1)\n",
    "\n",
    "# Normalizacion\n",
    "scaler = MinMaxScaler()\n",
    "temps_scaled = scaler.fit_transform(temps)\n",
    "\n",
    "x, y = [], []\n",
    "\n",
    "for i in range(len(temps_scaled) - 25):\n",
    "\tx.append(temps_scaled[i:i+24])\n",
    "\ty.append(temps_scaled[i+24])\n",
    "\n",
    "x, y = np.array(x), np.array(y)\n",
    "\n",
    "model = Sequential([\n",
    "\tSimpleRNN(50, activation=\"tanh\", input_shape=(24, 1)),\n",
    "\tDense(1)\n",
    "])\n",
    "\n",
    "model.compile(optimizer=\"adam\", loss=\"mse\")\n",
    "model.fit(x, y, epochs=10, batch_size=64)\n",
    "\n",
    "pred = model.predict(x[:1])\n",
    "print(\"Prediccion para la proxima hora: \", scaler.inverse_transform(pred))"
   ]
  },
  {
   "cell_type": "code",
   "execution_count": 7,
   "id": "fb7659cf",
   "metadata": {},
   "outputs": [
    {
     "name": "stdout",
     "output_type": "stream",
     "text": [
      "Prediccion de la siguiente hora: 289.40 K / 16.25ºC\n"
     ]
    }
   ],
   "source": [
    "pred = model(x[:1])\n",
    "pred_kelvin = scaler.inverse_transform(pred)[0][0]\n",
    "pred_celsius = pred_kelvin - 273.15\n",
    "print(f\"Prediccion de la siguiente hora: {pred_kelvin:.2f} K / {pred_celsius:.2f}ºC\")"
   ]
  },
  {
   "cell_type": "markdown",
   "id": "82335966",
   "metadata": {},
   "source": [
    "RNN Bidireccional"
   ]
  },
  {
   "cell_type": "code",
   "execution_count": 3,
   "id": "d69595e2",
   "metadata": {},
   "outputs": [
    {
     "name": "stdout",
     "output_type": "stream",
     "text": [
      "Downloading data from https://storage.googleapis.com/tensorflow/tf-keras-datasets/imdb.npz\n",
      "\u001b[1m17464789/17464789\u001b[0m \u001b[32m━━━━━━━━━━━━━━━━━━━━\u001b[0m\u001b[37m\u001b[0m \u001b[1m2s\u001b[0m 0us/step\n"
     ]
    },
    {
     "name": "stderr",
     "output_type": "stream",
     "text": [
      "C:\\Users\\ravf9\\workspace\\jupyter\\.ve2\\Lib\\site-packages\\keras\\src\\layers\\core\\embedding.py:97: UserWarning: Argument `input_length` is deprecated. Just remove it.\n",
      "  warnings.warn(\n"
     ]
    },
    {
     "name": "stdout",
     "output_type": "stream",
     "text": [
      "Epoch 1/5\n",
      "\u001b[1m391/391\u001b[0m \u001b[32m━━━━━━━━━━━━━━━━━━━━\u001b[0m\u001b[37m\u001b[0m \u001b[1m81s\u001b[0m 197ms/step - accuracy: 0.8081 - loss: 0.4157 - val_accuracy: 0.8448 - val_loss: 0.3902\n",
      "Epoch 2/5\n",
      "\u001b[1m391/391\u001b[0m \u001b[32m━━━━━━━━━━━━━━━━━━━━\u001b[0m\u001b[37m\u001b[0m \u001b[1m81s\u001b[0m 207ms/step - accuracy: 0.9035 - loss: 0.2462 - val_accuracy: 0.8719 - val_loss: 0.3015\n",
      "Epoch 3/5\n",
      "\u001b[1m391/391\u001b[0m \u001b[32m━━━━━━━━━━━━━━━━━━━━\u001b[0m\u001b[37m\u001b[0m \u001b[1m79s\u001b[0m 203ms/step - accuracy: 0.9235 - loss: 0.1999 - val_accuracy: 0.8682 - val_loss: 0.3516\n",
      "Epoch 4/5\n",
      "\u001b[1m391/391\u001b[0m \u001b[32m━━━━━━━━━━━━━━━━━━━━\u001b[0m\u001b[37m\u001b[0m \u001b[1m80s\u001b[0m 205ms/step - accuracy: 0.9446 - loss: 0.1476 - val_accuracy: 0.8407 - val_loss: 0.4277\n",
      "Epoch 5/5\n",
      "\u001b[1m391/391\u001b[0m \u001b[32m━━━━━━━━━━━━━━━━━━━━\u001b[0m\u001b[37m\u001b[0m \u001b[1m79s\u001b[0m 202ms/step - accuracy: 0.9616 - loss: 0.1066 - val_accuracy: 0.8665 - val_loss: 0.4290\n",
      "\u001b[1m782/782\u001b[0m \u001b[32m━━━━━━━━━━━━━━━━━━━━\u001b[0m\u001b[37m\u001b[0m \u001b[1m27s\u001b[0m 34ms/step - accuracy: 0.8665 - loss: 0.4290\n",
      "Loss: 0.4290, Accuracy: 0.8665\n"
     ]
    }
   ],
   "source": [
    "from tensorflow.keras.datasets import imdb\n",
    "from tensorflow.keras.models import Sequential\n",
    "from tensorflow.keras.layers import Embedding, Bidirectional, LSTM, Dense\n",
    "from tensorflow.keras.preprocessing.sequence import pad_sequences\n",
    "\n",
    "\n",
    "# cargamos nuestra base de datos\n",
    "(X_train, y_train), (X_test, y_test) = imdb.load_data(num_words=10000)\n",
    "\n",
    "# Padding de secuencias\n",
    "maxlen = 200\n",
    "X_train = pad_sequences(X_train, maxlen=maxlen)\n",
    "X_test = pad_sequences(X_test, maxlen=maxlen)\n",
    "\n",
    "model = Sequential([\n",
    "\tEmbedding(10000, 128, input_length=maxlen),\n",
    "\tBidirectional(LSTM(64)),\n",
    "\tDense(1, activation='sigmoid')\n",
    "])\n",
    "\n",
    "model.compile(optimizer='adam', loss='binary_crossentropy', metrics=['accuracy'])\n",
    "model.fit(X_train, y_train, validation_data=(X_test, y_test), epochs=5, batch_size=64)\n",
    "\n",
    "# evaluamos nuestro modelo\n",
    "loss, accuracy = model.evaluate(X_test, y_test)\n",
    "print(f\"Loss: {loss:.4f}, Accuracy: {accuracy:.4f}\")"
   ]
  },
  {
   "cell_type": "markdown",
   "id": "1ae00f83",
   "metadata": {},
   "source": [
    "# Clase 3"
   ]
  },
  {
   "cell_type": "markdown",
   "id": "6f54075e",
   "metadata": {},
   "source": [
    "## Evaluar el modelo y ver las predicciones"
   ]
  },
  {
   "cell_type": "code",
   "execution_count": 4,
   "id": "5d41cccd",
   "metadata": {},
   "outputs": [
    {
     "name": "stdout",
     "output_type": "stream",
     "text": [
      "\u001b[1m782/782\u001b[0m \u001b[32m━━━━━━━━━━━━━━━━━━━━\u001b[0m\u001b[37m\u001b[0m \u001b[1m26s\u001b[0m 33ms/step\n"
     ]
    },
    {
     "data": {
      "image/png": "[encoded data removed]",
      "text/plain": [
       "<Figure size 500x400 with 2 Axes>"
      ]
     },
     "metadata": {},
     "output_type": "display_data"
    },
    {
     "name": "stdout",
     "output_type": "stream",
     "text": [
      "              precision    recall  f1-score   support\n",
      "\n",
      "    Negativo       0.87      0.87      0.87     12500\n",
      "    Positivo       0.87      0.87      0.87     12500\n",
      "\n",
      "    accuracy                           0.87     25000\n",
      "   macro avg       0.87      0.87      0.87     25000\n",
      "weighted avg       0.87      0.87      0.87     25000\n",
      "\n"
     ]
    }
   ],
   "source": [
    "y_pred_probs = model.predict(X_test)\n",
    "y_pred = (y_pred_probs > 0.5).astype(\"int32\").flatten()\n",
    "\n",
    "from sklearn.metrics import confusion_matrix, classification_report\n",
    "import seaborn as sns\n",
    "import matplotlib.pyplot as plt\n",
    "\n",
    "cm = confusion_matrix(y_test, y_pred)\n",
    "plt.figure(figsize=(5,4))\n",
    "sns.heatmap(\n",
    "    cm,\n",
    "    annot=True,\n",
    "    fmt=\"d\",\n",
    "    cmap=\"Blues\",\n",
    "    xticklabels=[\"Negativo\", \"Positivo\"],\n",
    "    yticklabels=[\"Negativo\", \"Positivo\"]\n",
    ")\n",
    "plt.xlabel(\"Predicción\")\n",
    "plt.ylabel(\"Real\")\n",
    "plt.title(\"Matriz de confusión\")\n",
    "plt.show()\n",
    "\n",
    "print(classification_report(y_test, y_pred, target_names=[\"Negativo\", \"Positivo\"]))"
   ]
  },
  {
   "cell_type": "code",
   "execution_count": 7,
   "id": "084ec25c",
   "metadata": {},
   "outputs": [
    {
     "name": "stdout",
     "output_type": "stream",
     "text": [
      "\n",
      "Reseña original:  ? ? ? ? ? ? ? ? ? ? ? ? ? ? ? ? ? ? ? ? ? ? ? ? ? ? ? ? ? ? ? ? ? ? ? ? ? ? ? ? ? ? ? ? ? ? ? ? ? ? ? ? ? ? ? ? ? ? ? ? ? ? ? ? ? ? ? ? ? ? ? ? ? ? ? ? ? ? ? ? ? ? ? ? ? ? ? ? ? ? ? ? ? ? ? ? ? ? ? ? ? ? ? ? ? ? ? ? ? ? ? ? ? ? ? ? ? ? ? ? ? ? ? ? ? ? ? ? ? ? ? ? ? please give this one a miss br br ? ? and the rest of the cast rendered terrible performances the show is flat flat flat br br i don't know how michael madison could have allowed this one on his plate he almost seemed to know this wasn't going to work out and his performance was quite ? so all you madison fans give this a miss\n",
      "Etiqueta real:  Negativo\n",
      "Predicción modelo:  Negativo\n",
      "\n",
      "Reseña original:  psychological ? it's very interesting that robert altman directed this considering the style and structure of his other films still the trademark altman audio style is evident here and there i think what really makes this film work is the brilliant performance by sandy dennis it's definitely one of her darker characters but she plays it so perfectly and convincingly that it's scary michael burns does a good job as the mute young man regular altman player michael murphy has a small part the ? moody set fits the content of the story very well in short this movie is a powerful study of loneliness sexual ? and desperation be patient ? up the atmosphere and pay attention to the wonderfully written script br br i praise robert altman this is one of his many films that deals with unconventional fascinating subject matter this film is disturbing but it's sincere and it's sure to ? a strong emotional response from the viewer if you want to see an unusual film some might even say bizarre this is worth the time br br unfortunately it's very difficult to find in video stores you may have to buy it off the internet\n",
      "Etiqueta real:  Positivo\n",
      "Predicción modelo:  Positivo\n",
      "\n",
      "Reseña original:  everyone's horror the ? promptly eats the mayor and then goes on a merry rampage ? citizens at random a title card ? reads news of the king's ? throughout the kingdom when the now terrified ? once more ? ? for help he loses his temper and ? their community with lightning ? the moral of our story delivered by a hapless frog just before he is eaten is let well enough alone br br considering the time period when this startling little film was made and considering the fact that it was made by a russian ? at the height of that ? country's civil war it would be easy to see this as a ? about those events ? may or may not have had ? turmoil in mind when he made ? but whatever ? his choice of material the film stands as a ? tale of universal ? ? could be the soviet union italy germany or japan in the 1930s or any country of any era that lets its guard down and is overwhelmed by ? it's a fascinating film even a charming one in its macabre way but its message is no joke\n",
      "Etiqueta real:  Positivo\n",
      "Predicción modelo:  Negativo\n",
      "\n",
      "Reseña original:  ? ? ? ? ? ? ? ? ? ? ? ? ? ? ? ? ? ? ? ? i generally love this type of movie however this time i found myself wanting to kick the screen since i can't do that i will just complain about it this was absolutely idiotic the things that happen with the dead kids are very cool but the alive people are absolute idiots i am a grown man pretty big and i can defend myself well however i would not do half the stuff the little girl does in this movie also the mother in this movie is reckless with her children to the point of neglect i wish i wasn't so angry about her and her actions because i would have otherwise enjoyed the flick what a number she was take my advise and fast forward through everything you see her do until the end also is anyone else getting sick of watching movies that are filmed so dark anymore one can hardly see what is being filmed as an audience we are ? involved with the actions on the screen so then why the hell can't we have night vision\n",
      "Etiqueta real:  Negativo\n",
      "Predicción modelo:  Positivo\n",
      "\n",
      "Reseña original:  ? ? ? ? ? ? ? ? ? ? ? ? ? ? ? ? ? ? ? ? ? ? ? ? ? ? ? ? ? ? ? ? ? ? ? ? ? ? ? ? ? ? ? ? ? ? ? ? ? ? ? ? ? ? ? ? ? ? ? ? ? ? ? ? ? ? ? ? ? ? ? ? ? ? ? ? ? ? ? ? ? ? ? ? ? ? ? ? ? ? ? ? ? like some other people wrote i'm a die hard mario fan and i loved this game br br this game starts slightly boring but trust me it's worth it as soon as you start your hooked the levels are fun and ? they will hook you ? your mind turns to ? i'm not kidding this game is also ? and is beautifully done br br to keep this spoiler free i have to keep my mouth shut about details but please try this game it'll be worth it br br story 9 9 action 10 1 it's that good ? 10 attention ? 10 average 10\n",
      "Etiqueta real:  Positivo\n",
      "Predicción modelo:  Positivo\n"
     ]
    }
   ],
   "source": [
    "# diccionario de palabras\n",
    "word_index = imdb.get_word_index()\n",
    "reverse_word_index = {value: key for key, value in word_index.items()}\n",
    "\n",
    "# decodificando una reseña\n",
    "def decode_review(encoded_review):\n",
    "    return \" \".join([reverse_word_index.get(i - 3, \"?\") for i in encoded_review])\n",
    "\n",
    "# Ejemplo: mostramos 5 reviews\n",
    "for i in range(5):\n",
    "    print(\"\\nReseña original: \", decode_review(X_test[i]))\n",
    "    print(\"Etiqueta real: \", \"Positivo\" if y_test[i] == 1 else \"Negativo\")\n",
    "    print(\"Predicción modelo: \", \"Positivo\" if y_pred[i] == 1 else \"Negativo\")"
   ]
  },
  {
   "cell_type": "markdown",
   "id": "29dc94c2",
   "metadata": {},
   "source": [
    "## Creamos un modelo sec2sec para traducciones de frases"
   ]
  },
  {
   "cell_type": "code",
   "execution_count": 10,
   "id": "1646a925",
   "metadata": {},
   "outputs": [
    {
     "name": "stdout",
     "output_type": "stream",
     "text": [
      "Requirement already satisfied: requests in c:\\users\\ravf9\\workspace\\jupyter\\.ve2\\lib\\site-packages (2.32.4)\n",
      "Requirement already satisfied: charset_normalizer<4,>=2 in c:\\users\\ravf9\\workspace\\jupyter\\.ve2\\lib\\site-packages (from requests) (3.4.3)\n",
      "Requirement already satisfied: idna<4,>=2.5 in c:\\users\\ravf9\\workspace\\jupyter\\.ve2\\lib\\site-packages (from requests) (3.10)\n",
      "Requirement already satisfied: urllib3<3,>=1.21.1 in c:\\users\\ravf9\\workspace\\jupyter\\.ve2\\lib\\site-packages (from requests) (2.5.0)\n",
      "Requirement already satisfied: certifi>=2017.4.17 in c:\\users\\ravf9\\workspace\\jupyter\\.ve2\\lib\\site-packages (from requests) (2025.8.3)\n",
      "Note: you may need to restart the kernel to use updated packages.\n"
     ]
    },
    {
     "name": "stderr",
     "output_type": "stream",
     "text": [
      "\n",
      "[notice] A new release of pip is available: 25.0.1 -> 25.2\n",
      "[notice] To update, run: C:\\Users\\ravf9\\workspace\\jupyter\\.ve2\\Scripts\\python.exe -m pip install --upgrade pip\n"
     ]
    }
   ],
   "source": [
    "pip install requests"
   ]
  },
  {
   "cell_type": "code",
   "execution_count": 12,
   "id": "b5524037",
   "metadata": {},
   "outputs": [],
   "source": [
    "import zipfile\n",
    "import os\n",
    "from pathlib import Path\n",
    "import tensorflow as tf\n",
    "from tensorflow import keras\n",
    "from tensorflow.keras import layers\n",
    "import requests\n",
    "import random\n",
    "import string\n",
    "import re\n",
    "import numpy as np\n",
    "import tensorflow.data as tf_data\n",
    "import tensorflow.strings as tf_strings\n",
    "import keras\n",
    "from keras import layers\n",
    "from keras import ops\n",
    "from keras.layers import TextVectorization"
   ]
  },
  {
   "cell_type": "code",
   "execution_count": 26,
   "id": "9c93b1b1",
   "metadata": {},
   "outputs": [
    {
     "name": "stdout",
     "output_type": "stream",
     "text": [
      "Descargando dataset\n",
      "Descarga completa\n",
      "Extrayendo el archivo\n",
      "Buscando datos en C:\\Users\\ravf9\\spa-eng\\spa-eng\n",
      "Buscando datos en C:\\Users\\ravf9\\spa-eng\\spa-eng\\spa.txt\n",
      "Correctamente cargados 118964 pares traducidos\n",
      "Ejemplos\n",
      "English Go.\n",
      "Spanish [start]Ve.[end]\n",
      "\n",
      "English Go.\n",
      "Spanish [start]Vete.[end]\n",
      "\n",
      "English Go.\n",
      "Spanish [start]Vaya.[end]\n",
      "\n",
      "English Go.\n",
      "Spanish [start]Váyase.[end]\n",
      "\n",
      "English Hi.\n",
      "Spanish [start]Hola.[end]\n",
      "\n"
     ]
    }
   ],
   "source": [
    "# vamos a descargar nuestro dataset\n",
    "url = 'https://storage.googleapis.com/download.tensorflow.org/data/spa-eng.zip'\n",
    "zip_path = \"C:\\\\Users\\\\ravf9\\\\spa-eng.zip\"\n",
    "print(\"Descargando dataset\")\n",
    "\n",
    "try:\n",
    "    headers = {\n",
    "        'User-Agent': 'Mozilla/5.0 (Linux; Android 7.0; WAS-L03T) AppleWebKit/537.36 (KHTML, like Gecko) Chrome/87.0.4280.101 Mobile Safari/537.36'\n",
    "    }\n",
    "    response = requests.get(url, headers=headers, stream=None)\n",
    "    response.raise_for_status()\n",
    "\n",
    "    # guardar archivo\n",
    "    with open(zip_path, \"wb\") as f:\n",
    "        for chunk in response.iter_content(chunk_size=8192):\n",
    "            if chunk:\n",
    "                f.write(chunk)\n",
    "    print(\"Descarga completa\")\n",
    "\n",
    "except requests.exceptions.RequestException as e:\n",
    "    print(f\"Error al descargar el archivo {e}\")\n",
    "    print(\"Intenta de nuevo\")\n",
    "    !wget -O spa-eng.zip https://storage.googleapis.com/download.tensorflow.org/data/spa-eng.zip\n",
    "\n",
    "extract_path = \"C:\\\\Users\\\\ravf9\\\\spa-eng\"\n",
    "os.makedirs(extract_path, exist_ok=True)\n",
    "print(\"Extrayendo el archivo\")\n",
    "\n",
    "try:\n",
    "    with zipfile.ZipFile(zip_path, \"r\") as zip_ref:\n",
    "        zip_ref.extractall(extract_path)\n",
    "except zipfile.BadZipFile:\n",
    "    print(\"Error al extraer el archivo zip\")\n",
    "\n",
    "actual_data_path = os.path.join(extract_path, \"spa-eng\")\n",
    "print(f\"Buscando datos en {actual_data_path}\")\n",
    "\n",
    "text_file = os.path.join(actual_data_path, \"spa.txt\")\n",
    "print(f\"Buscando datos en {text_file}\")\n",
    "\n",
    "if os.path.exists(text_file):\n",
    "    with open(text_file, encoding=\"utf-8\") as f:\n",
    "        lines = f.read().split(\"\\n\")[:-1]\n",
    "    text_pairs = []\n",
    "    for line in lines:\n",
    "        if \"\\t\" in line:\n",
    "            parts = line.split(\"\\t\")\n",
    "            if len(parts) >= 2:\n",
    "                eng, spa = parts[0], parts[1]\n",
    "                spa = \"[start]\" + spa + \"[end]\"\n",
    "                text_pairs.append((eng, spa))\n",
    "\n",
    "    print(f\"Correctamente cargados {len(text_pairs)} pares traducidos\")\n",
    "\n",
    "    print(\"Ejemplos\")\n",
    "    for i in range(min(5, len(text_pairs))):\n",
    "        print(f\"English {text_pairs[i][0]}\")\n",
    "        print(f\"Spanish {text_pairs[i][1]}\\n\")"
   ]
  },
  {
   "cell_type": "code",
   "execution_count": null,
   "id": "8ed1fc64",
   "metadata": {},
   "outputs": [],
   "source": []
  }
 ],
 "metadata": {
  "kernelspec": {
   "display_name": "Python 3.11.8 (ve2)",
   "language": "python",
   "name": "ve2"
  },
  "language_info": {
   "codemirror_mode": {
    "name": "ipython",
    "version": 3
   },
   "file_extension": ".py",
   "mimetype": "text/x-python",
   "name": "python",
   "nbconvert_exporter": "python",
   "pygments_lexer": "ipython3",
   "version": "3.12.10"
  }
 },
 "nbformat": 4,
 "nbformat_minor": 5
}

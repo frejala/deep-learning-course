{
 "cells": [
  {
   "cell_type": "markdown",
   "id": "915c6c79",
   "metadata": {},
   "source": [
    "## Trabajando con RNNS\n",
    "### Comenzamos con una red neuronal recurrente simple"
   ]
  },
  {
   "cell_type": "code",
   "execution_count": 1,
   "id": "25c5d5b6",
   "metadata": {},
   "outputs": [
    {
     "name": "stderr",
     "output_type": "stream",
     "text": [
      "2025-08-19 20:29:07.857608: I tensorflow/core/util/port.cc:153] oneDNN custom operations are on. You may see slightly different numerical results due to floating-point round-off errors from different computation orders. To turn them off, set the environment variable `TF_ENABLE_ONEDNN_OPTS=0`.\n",
      "2025-08-19 20:29:07.868409: E external/local_xla/xla/stream_executor/cuda/cuda_fft.cc:467] Unable to register cuFFT factory: Attempting to register factory for plugin cuFFT when one has already been registered\n",
      "WARNING: All log messages before absl::InitializeLog() is called are written to STDERR\n",
      "E0000 00:00:1755646147.880815  444193 cuda_dnn.cc:8579] Unable to register cuDNN factory: Attempting to register factory for plugin cuDNN when one has already been registered\n",
      "E0000 00:00:1755646147.884698  444193 cuda_blas.cc:1407] Unable to register cuBLAS factory: Attempting to register factory for plugin cuBLAS when one has already been registered\n",
      "W0000 00:00:1755646147.894739  444193 computation_placer.cc:177] computation placer already registered. Please check linkage and avoid linking the same target more than once.\n",
      "W0000 00:00:1755646147.894752  444193 computation_placer.cc:177] computation placer already registered. Please check linkage and avoid linking the same target more than once.\n",
      "W0000 00:00:1755646147.894754  444193 computation_placer.cc:177] computation placer already registered. Please check linkage and avoid linking the same target more than once.\n",
      "W0000 00:00:1755646147.894754  444193 computation_placer.cc:177] computation placer already registered. Please check linkage and avoid linking the same target more than once.\n",
      "2025-08-19 20:29:07.897822: I tensorflow/core/platform/cpu_feature_guard.cc:210] This TensorFlow binary is optimized to use available CPU instructions in performance-critical operations.\n",
      "To enable the following instructions: AVX2 AVX_VNNI FMA, in other operations, rebuild TensorFlow with the appropriate compiler flags.\n"
     ]
    }
   ],
   "source": [
    "import numpy as np\n",
    "from tensorflow.keras.models import Sequential\n",
    "from tensorflow.keras.layers import SimpleRNN, Dense"
   ]
  },
  {
   "cell_type": "code",
   "execution_count": 3,
   "id": "6243a0ae",
   "metadata": {},
   "outputs": [
    {
     "name": "stderr",
     "output_type": "stream",
     "text": [
      "/home/frejala/Code/deep-learning-course/.venv/lib/python3.11/site-packages/keras/src/layers/rnn/rnn.py:199: UserWarning: Do not pass an `input_shape`/`input_dim` argument to a layer. When using Sequential models, prefer using an `Input(shape)` object as the first layer in the model instead.\n",
      "  super().__init__(**kwargs)\n"
     ]
    },
    {
     "name": "stdout",
     "output_type": "stream",
     "text": [
      "\u001b[1m1/1\u001b[0m \u001b[32m━━━━━━━━━━━━━━━━━━━━\u001b[0m\u001b[37m\u001b[0m \u001b[1m0s\u001b[0m 79ms/step\n",
      "Prediccion del modelo para [2, 3, 4]:  [[2.8636582]]\n"
     ]
    }
   ],
   "source": [
    "# con esto le ensenho al modelo\n",
    "x = np.array([[[0], [1], [2]], [[1], [2], [3]]]) # secuencia\n",
    "\n",
    "# esto es lo que quiero que mi modelo trate de predecir\n",
    "y = np.array([3, 4])\n",
    "\n",
    "# defino mi modelo de rnn simple\n",
    "model = Sequential([\n",
    "  SimpleRNN(10, activation=\"tanh\", input_shape=(3, 1)),\n",
    "  Dense(1)\n",
    "])\n",
    "\n",
    "model.compile(optimizer=\"adam\", loss=\"MSE\")\n",
    "model.fit(x, y, epochs=200, verbose=0)\n",
    "\n",
    "print(\"Prediccion del modelo para [2, 3, 4]: \", model.predict(np.array([[[2], [3], [4]]])))"
   ]
  },
  {
   "cell_type": "markdown",
   "id": "77072728",
   "metadata": {},
   "source": [
    "Caso de uso para prediccion de temperaturas"
   ]
  },
  {
   "cell_type": "code",
   "execution_count": 4,
   "id": "6c0f12ba",
   "metadata": {},
   "outputs": [],
   "source": [
    "import pandas as pd\n",
    "import numpy as np\n",
    "from tensorflow.keras.models import Sequential\n",
    "from tensorflow.keras.layers import SimpleRNN, Dense\n",
    "from sklearn.preprocessing import MinMaxScaler"
   ]
  },
  {
   "cell_type": "code",
   "execution_count": 5,
   "id": "4c39806c",
   "metadata": {},
   "outputs": [
    {
     "name": "stdout",
     "output_type": "stream",
     "text": [
      "Epoch 1/10\n"
     ]
    },
    {
     "name": "stderr",
     "output_type": "stream",
     "text": [
      "/home/frejala/Code/deep-learning-course/.venv/lib/python3.11/site-packages/keras/src/layers/rnn/rnn.py:199: UserWarning: Do not pass an `input_shape`/`input_dim` argument to a layer. When using Sequential models, prefer using an `Input(shape)` object as the first layer in the model instead.\n",
      "  super().__init__(**kwargs)\n"
     ]
    },
    {
     "name": "stdout",
     "output_type": "stream",
     "text": [
      "\u001b[1m695/695\u001b[0m \u001b[32m━━━━━━━━━━━━━━━━━━━━\u001b[0m\u001b[37m\u001b[0m \u001b[1m2s\u001b[0m 3ms/step - loss: 0.0016\n",
      "Epoch 2/10\n",
      "\u001b[1m695/695\u001b[0m \u001b[32m━━━━━━━━━━━━━━━━━━━━\u001b[0m\u001b[37m\u001b[0m \u001b[1m2s\u001b[0m 3ms/step - loss: 4.8635e-04\n",
      "Epoch 3/10\n",
      "\u001b[1m695/695\u001b[0m \u001b[32m━━━━━━━━━━━━━━━━━━━━\u001b[0m\u001b[37m\u001b[0m \u001b[1m2s\u001b[0m 3ms/step - loss: 4.3297e-04\n",
      "Epoch 4/10\n",
      "\u001b[1m695/695\u001b[0m \u001b[32m━━━━━━━━━━━━━━━━━━━━\u001b[0m\u001b[37m\u001b[0m \u001b[1m2s\u001b[0m 3ms/step - loss: 4.2717e-04\n",
      "Epoch 5/10\n",
      "\u001b[1m695/695\u001b[0m \u001b[32m━━━━━━━━━━━━━━━━━━━━\u001b[0m\u001b[37m\u001b[0m \u001b[1m2s\u001b[0m 3ms/step - loss: 4.2383e-04\n",
      "Epoch 6/10\n",
      "\u001b[1m695/695\u001b[0m \u001b[32m━━━━━━━━━━━━━━━━━━━━\u001b[0m\u001b[37m\u001b[0m \u001b[1m2s\u001b[0m 3ms/step - loss: 4.1889e-04\n",
      "Epoch 7/10\n",
      "\u001b[1m695/695\u001b[0m \u001b[32m━━━━━━━━━━━━━━━━━━━━\u001b[0m\u001b[37m\u001b[0m \u001b[1m2s\u001b[0m 3ms/step - loss: 4.1935e-04\n",
      "Epoch 8/10\n",
      "\u001b[1m695/695\u001b[0m \u001b[32m━━━━━━━━━━━━━━━━━━━━\u001b[0m\u001b[37m\u001b[0m \u001b[1m2s\u001b[0m 3ms/step - loss: 4.1994e-04\n",
      "Epoch 9/10\n",
      "\u001b[1m695/695\u001b[0m \u001b[32m━━━━━━━━━━━━━━━━━━━━\u001b[0m\u001b[37m\u001b[0m \u001b[1m2s\u001b[0m 3ms/step - loss: 4.2265e-04\n",
      "Epoch 10/10\n",
      "\u001b[1m695/695\u001b[0m \u001b[32m━━━━━━━━━━━━━━━━━━━━\u001b[0m\u001b[37m\u001b[0m \u001b[1m2s\u001b[0m 3ms/step - loss: 4.1716e-04\n",
      "\u001b[1m1/1\u001b[0m \u001b[32m━━━━━━━━━━━━━━━━━━━━\u001b[0m\u001b[37m\u001b[0m \u001b[1m0s\u001b[0m 81ms/step\n",
      "Prediccion para la proxima hora:  [[289.39523]]\n"
     ]
    }
   ],
   "source": [
    "# traemos el dataset\n",
    "df = pd.read_csv(r\"temperature.csv\")\n",
    "\n",
    "temps = df[\"San Francisco\"].dropna().values.reshape(-1, 1)\n",
    "\n",
    "# Normalizacion\n",
    "scaler = MinMaxScaler()\n",
    "temps_scaled = scaler.fit_transform(temps)\n",
    "\n",
    "x, y = [], []\n",
    "\n",
    "for i in range(len(temps_scaled) - 25):\n",
    "\tx.append(temps_scaled[i:i+24])\n",
    "\ty.append(temps_scaled[i+24])\n",
    "\n",
    "x, y = np.array(x), np.array(y)\n",
    "\n",
    "model = Sequential([\n",
    "\tSimpleRNN(50, activation=\"tanh\", input_shape=(24, 1)),\n",
    "\tDense(1)\n",
    "])\n",
    "\n",
    "model.compile(optimizer=\"adam\", loss=\"mse\")\n",
    "model.fit(x, y, epochs=10, batch_size=64)\n",
    "\n",
    "pred = model.predict(x[:1])\n",
    "print(\"Prediccion para la proxima hora: \", scaler.inverse_transform(pred))"
   ]
  },
  {
   "cell_type": "code",
   "execution_count": 7,
   "id": "fb7659cf",
   "metadata": {},
   "outputs": [
    {
     "name": "stdout",
     "output_type": "stream",
     "text": [
      "Prediccion de la siguiente hora: 289.40 K / 16.25ºC\n"
     ]
    }
   ],
   "source": [
    "pred = model(x[:1])\n",
    "pred_kelvin = scaler.inverse_transform(pred)[0][0]\n",
    "pred_celsius = pred_kelvin - 273.15\n",
    "print(f\"Prediccion de la siguiente hora: {pred_kelvin:.2f} K / {pred_celsius:.2f}ºC\")"
   ]
  },
  {
   "cell_type": "markdown",
   "id": "82335966",
   "metadata": {},
   "source": [
    "RNN Bidireccional"
   ]
  },
  {
   "cell_type": "code",
   "execution_count": 8,
   "id": "d69595e2",
   "metadata": {},
   "outputs": [
    {
     "name": "stdout",
     "output_type": "stream",
     "text": [
      "Downloading data from https://storage.googleapis.com/tensorflow/tf-keras-datasets/imdb.npz\n",
      "\u001b[1m17464789/17464789\u001b[0m \u001b[32m━━━━━━━━━━━━━━━━━━━━\u001b[0m\u001b[37m\u001b[0m \u001b[1m2s\u001b[0m 0us/step\n",
      "Epoch 1/5\n"
     ]
    },
    {
     "name": "stderr",
     "output_type": "stream",
     "text": [
      "/home/frejala/Code/deep-learning-course/.venv/lib/python3.11/site-packages/keras/src/layers/core/embedding.py:97: UserWarning: Argument `input_length` is deprecated. Just remove it.\n",
      "  warnings.warn(\n"
     ]
    },
    {
     "name": "stdout",
     "output_type": "stream",
     "text": [
      "\u001b[1m391/391\u001b[0m \u001b[32m━━━━━━━━━━━━━━━━━━━━\u001b[0m\u001b[37m\u001b[0m \u001b[1m36s\u001b[0m 87ms/step - accuracy: 0.8039 - loss: 0.4135 - val_accuracy: 0.8522 - val_loss: 0.3639\n",
      "Epoch 2/5\n",
      "\u001b[1m391/391\u001b[0m \u001b[32m━━━━━━━━━━━━━━━━━━━━\u001b[0m\u001b[37m\u001b[0m \u001b[1m38s\u001b[0m 97ms/step - accuracy: 0.9063 - loss: 0.2365 - val_accuracy: 0.8710 - val_loss: 0.3191\n",
      "Epoch 3/5\n",
      "\u001b[1m391/391\u001b[0m \u001b[32m━━━━━━━━━━━━━━━━━━━━\u001b[0m\u001b[37m\u001b[0m \u001b[1m39s\u001b[0m 100ms/step - accuracy: 0.9329 - loss: 0.1772 - val_accuracy: 0.8587 - val_loss: 0.3508\n",
      "Epoch 4/5\n",
      "\u001b[1m391/391\u001b[0m \u001b[32m━━━━━━━━━━━━━━━━━━━━\u001b[0m\u001b[37m\u001b[0m \u001b[1m38s\u001b[0m 98ms/step - accuracy: 0.9566 - loss: 0.1206 - val_accuracy: 0.8570 - val_loss: 0.3773\n",
      "Epoch 5/5\n",
      "\u001b[1m391/391\u001b[0m \u001b[32m━━━━━━━━━━━━━━━━━━━━\u001b[0m\u001b[37m\u001b[0m \u001b[1m41s\u001b[0m 104ms/step - accuracy: 0.9668 - loss: 0.0962 - val_accuracy: 0.8585 - val_loss: 0.4752\n",
      "\u001b[1m782/782\u001b[0m \u001b[32m━━━━━━━━━━━━━━━━━━━━\u001b[0m\u001b[37m\u001b[0m \u001b[1m38s\u001b[0m 48ms/step - accuracy: 0.8585 - loss: 0.4752\n",
      "Loss: 0.4752, Accuracy: 0.8585\n"
     ]
    }
   ],
   "source": [
    "from tensorflow.keras.datasets import imdb\n",
    "from tensorflow.keras.models import Sequential\n",
    "from tensorflow.keras.layers import Embedding, Bidirectional, LSTM, Dense\n",
    "from tensorflow.keras.preprocessing.sequence import pad_sequences\n",
    "\n",
    "\n",
    "# cargamos nuestra base de datos\n",
    "(X_train, y_train), (X_test, y_test) = imdb.load_data(num_words=10000)\n",
    "\n",
    "# Padding de secuencias\n",
    "maxlen = 200\n",
    "X_train = pad_sequences(X_train, maxlen=maxlen)\n",
    "X_test = pad_sequences(X_test, maxlen=maxlen)\n",
    "\n",
    "model = Sequential([\n",
    "\tEmbedding(10000, 128, input_length=maxlen),\n",
    "\tBidirectional(LSTM(64)),\n",
    "\tDense(1, activation='sigmoid')\n",
    "])\n",
    "\n",
    "model.compile(optimizer='adam', loss='binary_crossentropy', metrics=['accuracy'])\n",
    "model.fit(X_train, y_train, validation_data=(X_test, y_test), epochs=5, batch_size=64)\n",
    "\n",
    "# evaluamos nuestro modelo\n",
    "loss, accuracy = model.evaluate(X_test, y_test)\n",
    "print(f\"Loss: {loss:.4f}, Accuracy: {accuracy:.4f}\")"
   ]
  }
 ],
 "metadata": {
  "kernelspec": {
   "display_name": ".venv",
   "language": "python",
   "name": "python3"
  },
  "language_info": {
   "codemirror_mode": {
    "name": "ipython",
    "version": 3
   },
   "file_extension": ".py",
   "mimetype": "text/x-python",
   "name": "python",
   "nbconvert_exporter": "python",
   "pygments_lexer": "ipython3",
   "version": "3.11.13"
  }
 },
 "nbformat": 4,
 "nbformat_minor": 5
}

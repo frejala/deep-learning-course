{
 "cells": [
  {
   "cell_type": "markdown",
   "id": "915c6c79",
   "metadata": {},
   "source": [
    "## Trabajando con RNNS\n",
    "### Comenzamos con una red neuronal recurrente simple"
   ]
  },
  {
   "cell_type": "code",
   "execution_count": 4,
   "id": "25c5d5b6",
   "metadata": {},
   "outputs": [
    {
     "name": "stderr",
     "output_type": "stream",
     "text": [
      "2025-08-26 19:41:57.151548: I tensorflow/core/util/port.cc:153] oneDNN custom operations are on. You may see slightly different numerical results due to floating-point round-off errors from different computation orders. To turn them off, set the environment variable `TF_ENABLE_ONEDNN_OPTS=0`.\n",
      "2025-08-26 19:41:57.164231: E external/local_xla/xla/stream_executor/cuda/cuda_fft.cc:467] Unable to register cuFFT factory: Attempting to register factory for plugin cuFFT when one has already been registered\n",
      "WARNING: All log messages before absl::InitializeLog() is called are written to STDERR\n",
      "E0000 00:00:1756248117.180402   92481 cuda_dnn.cc:8579] Unable to register cuDNN factory: Attempting to register factory for plugin cuDNN when one has already been registered\n",
      "E0000 00:00:1756248117.184913   92481 cuda_blas.cc:1407] Unable to register cuBLAS factory: Attempting to register factory for plugin cuBLAS when one has already been registered\n",
      "W0000 00:00:1756248117.196650   92481 computation_placer.cc:177] computation placer already registered. Please check linkage and avoid linking the same target more than once.\n",
      "W0000 00:00:1756248117.196669   92481 computation_placer.cc:177] computation placer already registered. Please check linkage and avoid linking the same target more than once.\n",
      "W0000 00:00:1756248117.196671   92481 computation_placer.cc:177] computation placer already registered. Please check linkage and avoid linking the same target more than once.\n",
      "W0000 00:00:1756248117.196672   92481 computation_placer.cc:177] computation placer already registered. Please check linkage and avoid linking the same target more than once.\n",
      "2025-08-26 19:41:57.200217: I tensorflow/core/platform/cpu_feature_guard.cc:210] This TensorFlow binary is optimized to use available CPU instructions in performance-critical operations.\n",
      "To enable the following instructions: AVX2 AVX_VNNI FMA, in other operations, rebuild TensorFlow with the appropriate compiler flags.\n"
     ]
    }
   ],
   "source": [
    "import numpy as np\n",
    "from tensorflow.keras.models import Sequential\n",
    "from tensorflow.keras.layers import SimpleRNN, Dense"
   ]
  },
  {
   "cell_type": "code",
   "execution_count": 5,
   "id": "6243a0ae",
   "metadata": {},
   "outputs": [
    {
     "name": "stderr",
     "output_type": "stream",
     "text": [
      "2025-08-26 19:42:40.250457: E external/local_xla/xla/stream_executor/cuda/cuda_platform.cc:51] failed call to cuInit: INTERNAL: CUDA error: Failed call to cuInit: UNKNOWN ERROR (303)\n",
      "/home/frejala/Code/cit-courses/deep-learning-course/.venv/lib/python3.11/site-packages/keras/src/layers/rnn/rnn.py:199: UserWarning: Do not pass an `input_shape`/`input_dim` argument to a layer. When using Sequential models, prefer using an `Input(shape)` object as the first layer in the model instead.\n",
      "  super().__init__(**kwargs)\n"
     ]
    },
    {
     "name": "stdout",
     "output_type": "stream",
     "text": [
      "\u001b[1m1/1\u001b[0m \u001b[32m━━━━━━━━━━━━━━━━━━━━\u001b[0m\u001b[37m\u001b[0m \u001b[1m0s\u001b[0m 94ms/step\n",
      "Prediccion del modelo para [2, 3, 4]:  [[3.2583735]]\n"
     ]
    }
   ],
   "source": [
    "# con esto le ensenho al modelo\n",
    "x = np.array([[[0], [1], [2]], [[1], [2], [3]]]) # secuencia\n",
    "\n",
    "# esto es lo que quiero que mi modelo trate de predecir\n",
    "y = np.array([3, 4])\n",
    "\n",
    "# defino mi modelo de rnn simple\n",
    "model = Sequential([\n",
    "  SimpleRNN(10, activation=\"tanh\", input_shape=(3, 1)),\n",
    "  Dense(1)\n",
    "])\n",
    "\n",
    "model.compile(optimizer=\"adam\", loss=\"MSE\")\n",
    "model.fit(x, y, epochs=200, verbose=0)\n",
    "\n",
    "print(\"Prediccion del modelo para [2, 3, 4]: \", model.predict(np.array([[[2], [3], [4]]])))"
   ]
  },
  {
   "cell_type": "markdown",
   "id": "77072728",
   "metadata": {},
   "source": [
    "Caso de uso para prediccion de temperaturas"
   ]
  },
  {
   "cell_type": "code",
   "execution_count": 6,
   "id": "6c0f12ba",
   "metadata": {},
   "outputs": [],
   "source": [
    "import pandas as pd\n",
    "import numpy as np\n",
    "from tensorflow.keras.models import Sequential\n",
    "from tensorflow.keras.layers import SimpleRNN, Dense\n",
    "from sklearn.preprocessing import MinMaxScaler"
   ]
  },
  {
   "cell_type": "code",
   "execution_count": 7,
   "id": "4c39806c",
   "metadata": {},
   "outputs": [
    {
     "name": "stdout",
     "output_type": "stream",
     "text": [
      "Epoch 1/10\n"
     ]
    },
    {
     "name": "stderr",
     "output_type": "stream",
     "text": [
      "/home/frejala/Code/cit-courses/deep-learning-course/.venv/lib/python3.11/site-packages/keras/src/layers/rnn/rnn.py:199: UserWarning: Do not pass an `input_shape`/`input_dim` argument to a layer. When using Sequential models, prefer using an `Input(shape)` object as the first layer in the model instead.\n",
      "  super().__init__(**kwargs)\n"
     ]
    },
    {
     "name": "stdout",
     "output_type": "stream",
     "text": [
      "\u001b[1m695/695\u001b[0m \u001b[32m━━━━━━━━━━━━━━━━━━━━\u001b[0m\u001b[37m\u001b[0m \u001b[1m4s\u001b[0m 5ms/step - loss: 0.0013\n",
      "Epoch 2/10\n",
      "\u001b[1m695/695\u001b[0m \u001b[32m━━━━━━━━━━━━━━━━━━━━\u001b[0m\u001b[37m\u001b[0m \u001b[1m4s\u001b[0m 6ms/step - loss: 5.3344e-04\n",
      "Epoch 3/10\n",
      "\u001b[1m695/695\u001b[0m \u001b[32m━━━━━━━━━━━━━━━━━━━━\u001b[0m\u001b[37m\u001b[0m \u001b[1m3s\u001b[0m 5ms/step - loss: 4.5452e-04\n",
      "Epoch 4/10\n",
      "\u001b[1m695/695\u001b[0m \u001b[32m━━━━━━━━━━━━━━━━━━━━\u001b[0m\u001b[37m\u001b[0m \u001b[1m5s\u001b[0m 6ms/step - loss: 4.2942e-04\n",
      "Epoch 5/10\n",
      "\u001b[1m695/695\u001b[0m \u001b[32m━━━━━━━━━━━━━━━━━━━━\u001b[0m\u001b[37m\u001b[0m \u001b[1m4s\u001b[0m 5ms/step - loss: 4.2729e-04\n",
      "Epoch 6/10\n",
      "\u001b[1m695/695\u001b[0m \u001b[32m━━━━━━━━━━━━━━━━━━━━\u001b[0m\u001b[37m\u001b[0m \u001b[1m4s\u001b[0m 6ms/step - loss: 4.2594e-04\n",
      "Epoch 7/10\n",
      "\u001b[1m695/695\u001b[0m \u001b[32m━━━━━━━━━━━━━━━━━━━━\u001b[0m\u001b[37m\u001b[0m \u001b[1m4s\u001b[0m 6ms/step - loss: 4.2674e-04\n",
      "Epoch 8/10\n",
      "\u001b[1m695/695\u001b[0m \u001b[32m━━━━━━━━━━━━━━━━━━━━\u001b[0m\u001b[37m\u001b[0m \u001b[1m3s\u001b[0m 5ms/step - loss: 4.2819e-04\n",
      "Epoch 9/10\n",
      "\u001b[1m695/695\u001b[0m \u001b[32m━━━━━━━━━━━━━━━━━━━━\u001b[0m\u001b[37m\u001b[0m \u001b[1m4s\u001b[0m 5ms/step - loss: 4.1675e-04\n",
      "Epoch 10/10\n",
      "\u001b[1m695/695\u001b[0m \u001b[32m━━━━━━━━━━━━━━━━━━━━\u001b[0m\u001b[37m\u001b[0m \u001b[1m5s\u001b[0m 7ms/step - loss: 4.1843e-04\n",
      "\u001b[1m1/1\u001b[0m \u001b[32m━━━━━━━━━━━━━━━━━━━━\u001b[0m\u001b[37m\u001b[0m \u001b[1m0s\u001b[0m 129ms/step\n",
      "Prediccion para la proxima hora:  [[288.92557]]\n"
     ]
    }
   ],
   "source": [
    "# traemos el dataset\n",
    "df = pd.read_csv(r\"temperature.csv\")\n",
    "\n",
    "temps = df[\"San Francisco\"].dropna().values.reshape(-1, 1)\n",
    "\n",
    "# Normalizacion\n",
    "scaler = MinMaxScaler()\n",
    "temps_scaled = scaler.fit_transform(temps)\n",
    "\n",
    "x, y = [], []\n",
    "\n",
    "for i in range(len(temps_scaled) - 25):\n",
    "\tx.append(temps_scaled[i:i+24])\n",
    "\ty.append(temps_scaled[i+24])\n",
    "\n",
    "x, y = np.array(x), np.array(y)\n",
    "\n",
    "model = Sequential([\n",
    "\tSimpleRNN(50, activation=\"tanh\", input_shape=(24, 1)),\n",
    "\tDense(1)\n",
    "])\n",
    "\n",
    "model.compile(optimizer=\"adam\", loss=\"mse\")\n",
    "model.fit(x, y, epochs=10, batch_size=64)\n",
    "\n",
    "pred = model.predict(x[:1])\n",
    "print(\"Prediccion para la proxima hora: \", scaler.inverse_transform(pred))"
   ]
  },
  {
   "cell_type": "code",
   "execution_count": 8,
   "id": "fb7659cf",
   "metadata": {},
   "outputs": [
    {
     "name": "stdout",
     "output_type": "stream",
     "text": [
      "Prediccion de la siguiente hora: 288.93 K / 15.78ºC\n"
     ]
    }
   ],
   "source": [
    "pred = model(x[:1])\n",
    "pred_kelvin = scaler.inverse_transform(pred)[0][0]\n",
    "pred_celsius = pred_kelvin - 273.15\n",
    "print(f\"Prediccion de la siguiente hora: {pred_kelvin:.2f} K / {pred_celsius:.2f}ºC\")"
   ]
  },
  {
   "cell_type": "markdown",
   "id": "82335966",
   "metadata": {},
   "source": [
    "RNN Bidireccional"
   ]
  },
  {
   "cell_type": "code",
   "execution_count": 9,
   "id": "d69595e2",
   "metadata": {},
   "outputs": [
    {
     "name": "stdout",
     "output_type": "stream",
     "text": [
      "Downloading data from https://storage.googleapis.com/tensorflow/tf-keras-datasets/imdb.npz\n",
      "\u001b[1m17464789/17464789\u001b[0m \u001b[32m━━━━━━━━━━━━━━━━━━━━\u001b[0m\u001b[37m\u001b[0m \u001b[1m2s\u001b[0m 0us/step\n",
      "Epoch 1/5\n"
     ]
    },
    {
     "name": "stderr",
     "output_type": "stream",
     "text": [
      "/home/frejala/Code/cit-courses/deep-learning-course/.venv/lib/python3.11/site-packages/keras/src/layers/core/embedding.py:97: UserWarning: Argument `input_length` is deprecated. Just remove it.\n",
      "  warnings.warn(\n"
     ]
    },
    {
     "name": "stdout",
     "output_type": "stream",
     "text": [
      "\u001b[1m391/391\u001b[0m \u001b[32m━━━━━━━━━━━━━━━━━━━━\u001b[0m\u001b[37m\u001b[0m \u001b[1m81s\u001b[0m 201ms/step - accuracy: 0.7868 - loss: 0.4480 - val_accuracy: 0.8647 - val_loss: 0.3236\n",
      "Epoch 2/5\n",
      "\u001b[1m391/391\u001b[0m \u001b[32m━━━━━━━━━━━━━━━━━━━━\u001b[0m\u001b[37m\u001b[0m \u001b[1m79s\u001b[0m 202ms/step - accuracy: 0.8966 - loss: 0.2590 - val_accuracy: 0.8750 - val_loss: 0.2995\n",
      "Epoch 3/5\n",
      "\u001b[1m391/391\u001b[0m \u001b[32m━━━━━━━━━━━━━━━━━━━━\u001b[0m\u001b[37m\u001b[0m \u001b[1m82s\u001b[0m 211ms/step - accuracy: 0.9291 - loss: 0.1857 - val_accuracy: 0.8750 - val_loss: 0.3188\n",
      "Epoch 4/5\n",
      "\u001b[1m391/391\u001b[0m \u001b[32m━━━━━━━━━━━━━━━━━━━━\u001b[0m\u001b[37m\u001b[0m \u001b[1m73s\u001b[0m 188ms/step - accuracy: 0.9504 - loss: 0.1359 - val_accuracy: 0.8712 - val_loss: 0.3552\n",
      "Epoch 5/5\n",
      "\u001b[1m391/391\u001b[0m \u001b[32m━━━━━━━━━━━━━━━━━━━━\u001b[0m\u001b[37m\u001b[0m \u001b[1m80s\u001b[0m 204ms/step - accuracy: 0.9627 - loss: 0.1025 - val_accuracy: 0.8551 - val_loss: 0.3976\n",
      "\u001b[1m782/782\u001b[0m \u001b[32m━━━━━━━━━━━━━━━━━━━━\u001b[0m\u001b[37m\u001b[0m \u001b[1m37s\u001b[0m 48ms/step - accuracy: 0.8551 - loss: 0.3976\n",
      "Loss: 0.3976, Accuracy: 0.8551\n"
     ]
    }
   ],
   "source": [
    "from tensorflow.keras.datasets import imdb\n",
    "from tensorflow.keras.models import Sequential\n",
    "from tensorflow.keras.layers import Embedding, Bidirectional, LSTM, Dense\n",
    "from tensorflow.keras.preprocessing.sequence import pad_sequences\n",
    "\n",
    "\n",
    "# cargamos nuestra base de datos\n",
    "(X_train, y_train), (X_test, y_test) = imdb.load_data(num_words=10000)\n",
    "\n",
    "# Padding de secuencias\n",
    "maxlen = 200\n",
    "X_train = pad_sequences(X_train, maxlen=maxlen)\n",
    "X_test = pad_sequences(X_test, maxlen=maxlen)\n",
    "\n",
    "model = Sequential([\n",
    "\tEmbedding(10000, 128, input_length=maxlen),\n",
    "\tBidirectional(LSTM(64)),\n",
    "\tDense(1, activation='sigmoid')\n",
    "])\n",
    "\n",
    "model.compile(optimizer='adam', loss='binary_crossentropy', metrics=['accuracy'])\n",
    "model.fit(X_train, y_train, validation_data=(X_test, y_test), epochs=5, batch_size=64)\n",
    "\n",
    "# evaluamos nuestro modelo\n",
    "loss, accuracy = model.evaluate(X_test, y_test)\n",
    "print(f\"Loss: {loss:.4f}, Accuracy: {accuracy:.4f}\")"
   ]
  },
  {
   "cell_type": "markdown",
   "id": "26738a3c",
   "metadata": {},
   "source": [
    "Evaluar el modelo y ver las predicciones"
   ]
  },
  {
   "cell_type": "code",
   "execution_count": 10,
   "id": "aaa4d2f1",
   "metadata": {},
   "outputs": [
    {
     "name": "stdout",
     "output_type": "stream",
     "text": [
      "\u001b[1m782/782\u001b[0m \u001b[32m━━━━━━━━━━━━━━━━━━━━\u001b[0m\u001b[37m\u001b[0m \u001b[1m36s\u001b[0m 45ms/step\n"
     ]
    },
    {
     "data": {
      "image/png": "[encoded data removed]",
      "text/plain": [
       "<Figure size 500x400 with 2 Axes>"
      ]
     },
     "metadata": {},
     "output_type": "display_data"
    },
    {
     "name": "stdout",
     "output_type": "stream",
     "text": [
      "              precision    recall  f1-score   support\n",
      "\n",
      "    Negativo       0.90      0.80      0.85     12500\n",
      "    Positivo       0.82      0.91      0.86     12500\n",
      "\n",
      "    accuracy                           0.86     25000\n",
      "   macro avg       0.86      0.86      0.85     25000\n",
      "weighted avg       0.86      0.86      0.85     25000\n",
      "\n"
     ]
    }
   ],
   "source": [
    "y_pred_probs = model.predict(X_test)\n",
    "y_pred = (y_pred_probs > 0.5).astype(\"int32\").flatten()\n",
    "\n",
    "from sklearn.metrics import confusion_matrix, classification_report\n",
    "import seaborn as sns\n",
    "import matplotlib.pyplot as plt\n",
    "\n",
    "cm = confusion_matrix(y_test, y_pred)\n",
    "plt.figure(figsize=(5,4))\n",
    "sns.heatmap(\n",
    "    cm,\n",
    "    annot=True,\n",
    "    fmt=\"d\",\n",
    "    cmap=\"Blues\",\n",
    "    xticklabels=[\"Negativo\", \"Positivo\"],\n",
    "    yticklabels=[\"Negativo\", \"Positivo\"]\n",
    ")\n",
    "plt.xlabel(\"Predicción\")\n",
    "plt.ylabel(\"Real\")\n",
    "plt.title(\"Matriz de confusión\")\n",
    "plt.show()\n",
    "\n",
    "print(classification_report(y_test, y_pred, target_names=[\"Negativo\", \"Positivo\"]))"
   ]
  },
  {
   "cell_type": "code",
   "execution_count": 11,
   "id": "a5a756f1",
   "metadata": {},
   "outputs": [
    {
     "name": "stdout",
     "output_type": "stream",
     "text": [
      "Downloading data from https://storage.googleapis.com/tensorflow/tf-keras-datasets/imdb_word_index.json\n",
      "\u001b[1m1641221/1641221\u001b[0m \u001b[32m━━━━━━━━━━━━━━━━━━━━\u001b[0m\u001b[37m\u001b[0m \u001b[1m0s\u001b[0m 0us/step\n",
      "\n",
      "Reseña original:  ? ? ? ? ? ? ? ? ? ? ? ? ? ? ? ? ? ? ? ? ? ? ? ? ? ? ? ? ? ? ? ? ? ? ? ? ? ? ? ? ? ? ? ? ? ? ? ? ? ? ? ? ? ? ? ? ? ? ? ? ? ? ? ? ? ? ? ? ? ? ? ? ? ? ? ? ? ? ? ? ? ? ? ? ? ? ? ? ? ? ? ? ? ? ? ? ? ? ? ? ? ? ? ? ? ? ? ? ? ? ? ? ? ? ? ? ? ? ? ? ? ? ? ? ? ? ? ? ? ? ? ? ? please give this one a miss br br ? ? and the rest of the cast rendered terrible performances the show is flat flat flat br br i don't know how michael madison could have allowed this one on his plate he almost seemed to know this wasn't going to work out and his performance was quite ? so all you madison fans give this a miss\n",
      "Etiqueta real:  Negativo\n",
      "Predicción modelo:  Negativo\n",
      "\n",
      "Reseña original:  psychological ? it's very interesting that robert altman directed this considering the style and structure of his other films still the trademark altman audio style is evident here and there i think what really makes this film work is the brilliant performance by sandy dennis it's definitely one of her darker characters but she plays it so perfectly and convincingly that it's scary michael burns does a good job as the mute young man regular altman player michael murphy has a small part the ? moody set fits the content of the story very well in short this movie is a powerful study of loneliness sexual ? and desperation be patient ? up the atmosphere and pay attention to the wonderfully written script br br i praise robert altman this is one of his many films that deals with unconventional fascinating subject matter this film is disturbing but it's sincere and it's sure to ? a strong emotional response from the viewer if you want to see an unusual film some might even say bizarre this is worth the time br br unfortunately it's very difficult to find in video stores you may have to buy it off the internet\n",
      "Etiqueta real:  Positivo\n",
      "Predicción modelo:  Positivo\n",
      "\n",
      "Reseña original:  everyone's horror the ? promptly eats the mayor and then goes on a merry rampage ? citizens at random a title card ? reads news of the king's ? throughout the kingdom when the now terrified ? once more ? ? for help he loses his temper and ? their community with lightning ? the moral of our story delivered by a hapless frog just before he is eaten is let well enough alone br br considering the time period when this startling little film was made and considering the fact that it was made by a russian ? at the height of that ? country's civil war it would be easy to see this as a ? about those events ? may or may not have had ? turmoil in mind when he made ? but whatever ? his choice of material the film stands as a ? tale of universal ? ? could be the soviet union italy germany or japan in the 1930s or any country of any era that lets its guard down and is overwhelmed by ? it's a fascinating film even a charming one in its macabre way but its message is no joke\n",
      "Etiqueta real:  Positivo\n",
      "Predicción modelo:  Positivo\n",
      "\n",
      "Reseña original:  ? ? ? ? ? ? ? ? ? ? ? ? ? ? ? ? ? ? ? ? i generally love this type of movie however this time i found myself wanting to kick the screen since i can't do that i will just complain about it this was absolutely idiotic the things that happen with the dead kids are very cool but the alive people are absolute idiots i am a grown man pretty big and i can defend myself well however i would not do half the stuff the little girl does in this movie also the mother in this movie is reckless with her children to the point of neglect i wish i wasn't so angry about her and her actions because i would have otherwise enjoyed the flick what a number she was take my advise and fast forward through everything you see her do until the end also is anyone else getting sick of watching movies that are filmed so dark anymore one can hardly see what is being filmed as an audience we are ? involved with the actions on the screen so then why the hell can't we have night vision\n",
      "Etiqueta real:  Negativo\n",
      "Predicción modelo:  Negativo\n",
      "\n",
      "Reseña original:  ? ? ? ? ? ? ? ? ? ? ? ? ? ? ? ? ? ? ? ? ? ? ? ? ? ? ? ? ? ? ? ? ? ? ? ? ? ? ? ? ? ? ? ? ? ? ? ? ? ? ? ? ? ? ? ? ? ? ? ? ? ? ? ? ? ? ? ? ? ? ? ? ? ? ? ? ? ? ? ? ? ? ? ? ? ? ? ? ? ? ? ? ? like some other people wrote i'm a die hard mario fan and i loved this game br br this game starts slightly boring but trust me it's worth it as soon as you start your hooked the levels are fun and ? they will hook you ? your mind turns to ? i'm not kidding this game is also ? and is beautifully done br br to keep this spoiler free i have to keep my mouth shut about details but please try this game it'll be worth it br br story 9 9 action 10 1 it's that good ? 10 attention ? 10 average 10\n",
      "Etiqueta real:  Positivo\n",
      "Predicción modelo:  Positivo\n"
     ]
    }
   ],
   "source": [
    "# diccionario de palabras\n",
    "word_index = imdb.get_word_index()\n",
    "reverse_word_index = {value: key for key, value in word_index.items()}\n",
    "\n",
    "# decodificando una reseña\n",
    "def decode_review(encoded_review):\n",
    "    return \" \".join([reverse_word_index.get(i - 3, \"?\") for i in encoded_review])\n",
    "\n",
    "# Ejemplo: mostramos 5 reviews\n",
    "for i in range(5):\n",
    "    print(\"\\nReseña original: \", decode_review(X_test[i]))\n",
    "    print(\"Etiqueta real: \", \"Positivo\" if y_test[i] == 1 else \"Negativo\")\n",
    "    print(\"Predicción modelo: \", \"Positivo\" if y_pred[i] == 1 else \"Negativo\")"
   ]
  },
  {
   "cell_type": "markdown",
   "id": "66577dca",
   "metadata": {},
   "source": [
    "Creamos un modelo sec2sec para traducciones de frases"
   ]
  },
  {
   "cell_type": "code",
   "execution_count": 12,
   "id": "579f9e5e",
   "metadata": {},
   "outputs": [],
   "source": [
    "import zipfile\n",
    "import os\n",
    "from pathlib import Path\n",
    "import tensorflow as tf\n",
    "from tensorflow import keras\n",
    "from tensorflow.keras import layers\n",
    "import requests\n",
    "import random\n",
    "import string\n",
    "import re\n",
    "import numpy as np\n",
    "import tensorflow.data as tf_data\n",
    "import tensorflow.strings as tf_strings\n",
    "import keras\n",
    "from keras import layers\n",
    "from keras import ops\n",
    "from keras.layers import TextVectorization"
   ]
  },
  {
   "cell_type": "code",
   "execution_count": 16,
   "id": "8b079821",
   "metadata": {},
   "outputs": [
    {
     "name": "stdout",
     "output_type": "stream",
     "text": [
      "Descargando dataset\n",
      "Descarga completa\n",
      "Extrayendo el archivo\n",
      "Buscando datos en /home/frejala/Code/cit-courses/deep-learning-course/clase-1908/spa-eng/spa-eng\n",
      "Buscando datos en /home/frejala/Code/cit-courses/deep-learning-course/clase-1908/spa-eng/spa-eng/spa.txt\n",
      "Correctamente cargados 118964 pares traducidos\n",
      "Ejemplos\n",
      "English Go.\n",
      "Spanish [start]Ve.[end]\n",
      "\n",
      "English Go.\n",
      "Spanish [start]Vete.[end]\n",
      "\n",
      "English Go.\n",
      "Spanish [start]Vaya.[end]\n",
      "\n",
      "English Go.\n",
      "Spanish [start]Váyase.[end]\n",
      "\n",
      "English Hi.\n",
      "Spanish [start]Hola.[end]\n",
      "\n"
     ]
    }
   ],
   "source": [
    "# vamos a descargar nuestro dataset\n",
    "url = 'https://storage.googleapis.com/download.tensorflow.org/data/spa-eng.zip'\n",
    "zip_path = \"/home/frejala/Code/cit-courses/deep-learning-course/clase-1908/spa-eng.zip\"\n",
    "print(\"Descargando dataset\")\n",
    "\n",
    "try:\n",
    "    headers = {\n",
    "        'User-Agent': 'Mozilla/5.0 (Linux; Android 7.0; WAS-L03T) AppleWebKit/537.36 (KHTML, like Gecko) Chrome/87.0.4280.101 Mobile Safari/537.36'\n",
    "    }\n",
    "    response = requests.get(url, headers=headers, stream=None)\n",
    "    response.raise_for_status()\n",
    "\n",
    "    # guardar archivo\n",
    "    with open(zip_path, \"wb\") as f:\n",
    "        for chunk in response.iter_content(chunk_size=8192):\n",
    "            if chunk:\n",
    "                f.write(chunk)\n",
    "    print(\"Descarga completa\")\n",
    "\n",
    "except requests.exceptions.RequestException as e:\n",
    "    print(f\"Error al descargar el archivo {e}\")\n",
    "    print(\"Intenta de nuevo\")\n",
    "    !wget -O spa-eng.zip https://storage.googleapis.com/download.tensorflow.org/data/spa-eng.zip\n",
    "\n",
    "extract_path = \"/home/frejala/Code/cit-courses/deep-learning-course/clase-1908/spa-eng\"\n",
    "os.makedirs(extract_path, exist_ok=True)\n",
    "print(\"Extrayendo el archivo\")\n",
    "\n",
    "try:\n",
    "    with zipfile.ZipFile(zip_path, \"r\") as zip_ref:\n",
    "        zip_ref.extractall(extract_path)\n",
    "except zipfile.BadZipFile:\n",
    "    print(\"Error al extraer el archivo zip\")\n",
    "\n",
    "actual_data_path = os.path.join(extract_path, \"spa-eng\")\n",
    "print(f\"Buscando datos en {actual_data_path}\")\n",
    "\n",
    "text_file = os.path.join(actual_data_path, \"spa.txt\")\n",
    "print(f\"Buscando datos en {text_file}\")\n",
    "\n",
    "if os.path.exists(text_file):\n",
    "    with open(text_file, encoding=\"utf-8\") as f:\n",
    "        lines = f.read().split(\"\\n\")[:-1]\n",
    "    text_pairs = []\n",
    "    for line in lines:\n",
    "        if \"\\t\" in line:\n",
    "            parts = line.split(\"\\t\")\n",
    "            if len(parts) >= 2:\n",
    "                eng, spa = parts[0], parts[1]\n",
    "                spa = \"[start]\" + spa + \"[end]\"\n",
    "                text_pairs.append((eng, spa))\n",
    "\n",
    "    print(f\"Correctamente cargados {len(text_pairs)} pares traducidos\")\n",
    "\n",
    "    print(\"Ejemplos\")\n",
    "    for i in range(min(5, len(text_pairs))):\n",
    "        print(f\"English {text_pairs[i][0]}\")\n",
    "        print(f\"Spanish {text_pairs[i][1]}\\n\")"
   ]
  }
 ],
 "metadata": {
  "kernelspec": {
   "display_name": ".venv",
   "language": "python",
   "name": "python3"
  },
  "language_info": {
   "codemirror_mode": {
    "name": "ipython",
    "version": 3
   },
   "file_extension": ".py",
   "mimetype": "text/x-python",
   "name": "python",
   "nbconvert_exporter": "python",
   "pygments_lexer": "ipython3",
   "version": "3.11.13"
  }
 },
 "nbformat": 4,
 "nbformat_minor": 5
}
